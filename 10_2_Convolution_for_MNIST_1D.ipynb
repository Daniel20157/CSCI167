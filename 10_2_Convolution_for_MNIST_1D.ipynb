{
  "nbformat": 4,
  "nbformat_minor": 0,
  "metadata": {
    "colab": {
      "provenance": []
    },
    "kernelspec": {
      "name": "python3",
      "display_name": "Python 3"
    },
    "language_info": {
      "name": "python"
    }
  },
  "cells": [
    {
      "cell_type": "markdown",
      "metadata": {
        "id": "view-in-github"
      },
      "source": [
        "<a href=\"https://colab.research.google.com/github/udlbook/udlbook/blob/main/Notebooks/Chap10/10_2_Convolution_for_MNIST_1D.ipynb\" target=\"_parent\"><img src=\"https://colab.research.google.com/assets/colab-badge.svg\" alt=\"Open In Colab\"/></a>"
      ]
    },
    {
      "cell_type": "markdown",
      "source": [
        "# **Notebook 10.2: Convolution for MNIST-1D**\n",
        "\n",
        "This notebook investigates a 1D convolutional network for MNIST-1D as in figure 10.7 and 10.8a.\n",
        "\n",
        "Work through the cells below, running each cell in turn. In various places you will see the words \"TO DO\". Follow the instructions at these places and make predictions about what is going to happen or write code to complete the functions.\n",
        "\n",
        "Contact me at udlbookmail@gmail.com if you find any mistakes or have any suggestions.\n",
        "\n"
      ],
      "metadata": {
        "id": "t9vk9Elugvmi"
      }
    },
    {
      "cell_type": "code",
      "source": [
        "# Run this if you're in a Colab to install MNIST 1D repository\n",
        "!pip install git+https://github.com/greydanus/mnist1d"
      ],
      "metadata": {
        "id": "D5yLObtZCi9J",
        "colab": {
          "base_uri": "https://localhost:8080/"
        },
        "outputId": "217c1e7e-4165-4768-af40-61475bd4aa15"
      },
      "execution_count": null,
      "outputs": [
        {
          "output_type": "stream",
          "name": "stdout",
          "text": [
            "Collecting git+https://github.com/greydanus/mnist1d\n",
            "  Cloning https://github.com/greydanus/mnist1d to /tmp/pip-req-build-1ml1ddu4\n",
            "  Running command git clone --filter=blob:none --quiet https://github.com/greydanus/mnist1d /tmp/pip-req-build-1ml1ddu4\n",
            "  Resolved https://github.com/greydanus/mnist1d to commit 7878d96082abd200c546a07a4101fa90b30fdf7e\n",
            "  Installing build dependencies ... \u001b[?25l\u001b[?25hdone\n",
            "  Getting requirements to build wheel ... \u001b[?25l\u001b[?25hdone\n",
            "  Preparing metadata (pyproject.toml) ... \u001b[?25l\u001b[?25hdone\n",
            "Requirement already satisfied: requests in /usr/local/lib/python3.10/dist-packages (from mnist1d==0.0.2.post16) (2.32.3)\n",
            "Requirement already satisfied: numpy in /usr/local/lib/python3.10/dist-packages (from mnist1d==0.0.2.post16) (1.26.4)\n",
            "Requirement already satisfied: matplotlib in /usr/local/lib/python3.10/dist-packages (from mnist1d==0.0.2.post16) (3.7.1)\n",
            "Requirement already satisfied: scipy in /usr/local/lib/python3.10/dist-packages (from mnist1d==0.0.2.post16) (1.13.1)\n",
            "Requirement already satisfied: contourpy>=1.0.1 in /usr/local/lib/python3.10/dist-packages (from matplotlib->mnist1d==0.0.2.post16) (1.3.0)\n",
            "Requirement already satisfied: cycler>=0.10 in /usr/local/lib/python3.10/dist-packages (from matplotlib->mnist1d==0.0.2.post16) (0.12.1)\n",
            "Requirement already satisfied: fonttools>=4.22.0 in /usr/local/lib/python3.10/dist-packages (from matplotlib->mnist1d==0.0.2.post16) (4.54.1)\n",
            "Requirement already satisfied: kiwisolver>=1.0.1 in /usr/local/lib/python3.10/dist-packages (from matplotlib->mnist1d==0.0.2.post16) (1.4.7)\n",
            "Requirement already satisfied: packaging>=20.0 in /usr/local/lib/python3.10/dist-packages (from matplotlib->mnist1d==0.0.2.post16) (24.1)\n",
            "Requirement already satisfied: pillow>=6.2.0 in /usr/local/lib/python3.10/dist-packages (from matplotlib->mnist1d==0.0.2.post16) (10.4.0)\n",
            "Requirement already satisfied: pyparsing>=2.3.1 in /usr/local/lib/python3.10/dist-packages (from matplotlib->mnist1d==0.0.2.post16) (3.2.0)\n",
            "Requirement already satisfied: python-dateutil>=2.7 in /usr/local/lib/python3.10/dist-packages (from matplotlib->mnist1d==0.0.2.post16) (2.8.2)\n",
            "Requirement already satisfied: charset-normalizer<4,>=2 in /usr/local/lib/python3.10/dist-packages (from requests->mnist1d==0.0.2.post16) (3.4.0)\n",
            "Requirement already satisfied: idna<4,>=2.5 in /usr/local/lib/python3.10/dist-packages (from requests->mnist1d==0.0.2.post16) (3.10)\n",
            "Requirement already satisfied: urllib3<3,>=1.21.1 in /usr/local/lib/python3.10/dist-packages (from requests->mnist1d==0.0.2.post16) (2.2.3)\n",
            "Requirement already satisfied: certifi>=2017.4.17 in /usr/local/lib/python3.10/dist-packages (from requests->mnist1d==0.0.2.post16) (2024.8.30)\n",
            "Requirement already satisfied: six>=1.5 in /usr/local/lib/python3.10/dist-packages (from python-dateutil>=2.7->matplotlib->mnist1d==0.0.2.post16) (1.16.0)\n",
            "Building wheels for collected packages: mnist1d\n",
            "  Building wheel for mnist1d (pyproject.toml) ... \u001b[?25l\u001b[?25hdone\n",
            "  Created wheel for mnist1d: filename=mnist1d-0.0.2.post16-py3-none-any.whl size=14624 sha256=7f789e406dd737a53ab919ec244d4b9e814e0101087c2069aae4aea4f5054ae4\n",
            "  Stored in directory: /tmp/pip-ephem-wheel-cache-_qwoz83_/wheels/41/95/55/45fcf7d38cfa97e35682da6c5017d4513729131326ce935371\n",
            "Successfully built mnist1d\n",
            "Installing collected packages: mnist1d\n",
            "Successfully installed mnist1d-0.0.2.post16\n"
          ]
        }
      ]
    },
    {
      "cell_type": "code",
      "source": [
        "import numpy as np\n",
        "import os\n",
        "import torch, torch.nn as nn\n",
        "from torch.utils.data import TensorDataset, DataLoader\n",
        "from torch.optim.lr_scheduler import StepLR\n",
        "import matplotlib.pyplot as plt\n",
        "import mnist1d\n",
        "import random"
      ],
      "metadata": {
        "id": "YrXWAH7sUWvU"
      },
      "execution_count": null,
      "outputs": []
    },
    {
      "cell_type": "code",
      "source": [
        "args = mnist1d.data.get_dataset_args()\n",
        "data = mnist1d.data.get_dataset(args, path='./mnist1d_data.pkl', download=False, regenerate=False)\n",
        "\n",
        "# The training and test input and outputs are in\n",
        "# data['x'], data['y'], data['x_test'], and data['y_test']\n",
        "print(\"Examples in training set: {}\".format(len(data['y'])))\n",
        "print(\"Examples in test set: {}\".format(len(data['y_test'])))\n",
        "print(\"Length of each example: {}\".format(data['x'].shape[-1]))"
      ],
      "metadata": {
        "id": "twI72ZCrCt5z",
        "colab": {
          "base_uri": "https://localhost:8080/"
        },
        "outputId": "e4440098-2aae-46f3-b377-59bd519f8c0a"
      },
      "execution_count": null,
      "outputs": [
        {
          "output_type": "stream",
          "name": "stdout",
          "text": [
            "Did or could not load data from ./mnist1d_data.pkl. Rebuilding dataset...\n",
            "Examples in training set: 4000\n",
            "Examples in test set: 1000\n",
            "Length of each example: 40\n"
          ]
        }
      ]
    },
    {
      "cell_type": "code",
      "source": [
        "# Load in the data\n",
        "train_data_x = data['x'].transpose()\n",
        "train_data_y = data['y']\n",
        "val_data_x = data['x_test'].transpose()\n",
        "val_data_y = data['y_test']\n",
        "# Print out sizes\n",
        "print(\"Train data: %d examples (columns), each of which has %d dimensions (rows)\"%((train_data_x.shape[1],train_data_x.shape[0])))\n",
        "print(\"Validation data: %d examples (columns), each of which has %d dimensions (rows)\"%((val_data_x.shape[1],val_data_x.shape[0])))"
      ],
      "metadata": {
        "id": "8bKADvLHbiV5",
        "colab": {
          "base_uri": "https://localhost:8080/"
        },
        "outputId": "1a7590c0-5120-45ec-ee0e-0e133561d989"
      },
      "execution_count": null,
      "outputs": [
        {
          "output_type": "stream",
          "name": "stdout",
          "text": [
            "Train data: 4000 examples (columns), each of which has 40 dimensions (rows)\n",
            "Validation data: 1000 examples (columns), each of which has 40 dimensions (rows)\n"
          ]
        }
      ]
    },
    {
      "cell_type": "markdown",
      "source": [
        "Define the network"
      ],
      "metadata": {
        "id": "_sFvRDGrl4qe"
      }
    },
    {
      "cell_type": "code",
      "source": [
        "# There are 40 input dimensions and 10 output dimensions for this data\n",
        "# The inputs correspond to the 40 offsets in the MNIST1D template.\n",
        "D_i = 40\n",
        "# The outputs correspond to the 10 digits\n",
        "D_o = 10\n",
        "\n",
        "\n",
        "# TODO Create a model with the following layers\n",
        "# 1. Convolutional layer, (input=length 40 and 1 channel, kernel size 3, stride 2, padding=\"valid\", 15 output channels )\n",
        "# 2. ReLU\n",
        "# 3. Convolutional layer, (input=length 19 and 15 channels, kernel size 3, stride 2, padding=\"valid\", 15 output channels )\n",
        "# 4. ReLU\n",
        "# 5. Convolutional layer, (input=length 9 and 15 channels, kernel size 3, stride 2, padding=\"valid\", 15 output channels)\n",
        "# 6. ReLU\n",
        "# 7. Flatten (converts 4x15) to length 60\n",
        "# 8. Linear layer (input size = 60, output size = 10)\n",
        "# References:\n",
        "# https://pytorch.org/docs/1.13/generated/torch.nn.Conv1d.html?highlight=conv1d#torch.nn.Conv1d\n",
        "# https://pytorch.org/docs/stable/generated/torch.nn.Flatten.html\n",
        "# https://pytorch.org/docs/1.13/generated/torch.nn.Linear.html?highlight=linear#torch.nn.Linear\n",
        "\n",
        "# NOTE THAT THE CONVOLUTIONAL LAYERS NEED TO TAKE THE NUMBER OF INPUT CHANNELS AS A PARAMETER\n",
        "# AND NOT THE INPUT SIZE.\n",
        "\n",
        "# Replace the following function:\n",
        "model = nn.Sequential(\n",
        "    nn.Conv1d(in_channels=1, out_channels=15, kernel_size=3, stride=2, padding=\"valid\"),\n",
        "    nn.ReLU(),\n",
        "    nn.Conv1d(in_channels=15, out_channels=15, kernel_size=3, stride=2, padding=\"valid\"),\n",
        "    nn.ReLU(),\n",
        "    nn.Conv1d(in_channels=15, out_channels=15, kernel_size=3, stride=2, padding=\"valid\"),\n",
        "    nn.ReLU(),\n",
        "    nn.Flatten(),\n",
        "    nn.Linear(60,10)\n",
        ")\n",
        "\n",
        "\n",
        "\n",
        "\n",
        "\n"
      ],
      "metadata": {
        "id": "FslroPJJffrh"
      },
      "execution_count": null,
      "outputs": []
    },
    {
      "cell_type": "code",
      "source": [
        "# He initialization of weights\n",
        "def weights_init(layer_in):\n",
        "  if isinstance(layer_in, nn.Linear):\n",
        "    nn.init.kaiming_uniform_(layer_in.weight)\n",
        "    layer_in.bias.data.fill_(0.0)"
      ],
      "metadata": {
        "id": "YgLaex1pfhqz"
      },
      "execution_count": null,
      "outputs": []
    },
    {
      "cell_type": "code",
      "source": [
        "# choose cross entropy loss function (equation 5.24 in the loss notes)\n",
        "loss_function = nn.CrossEntropyLoss()\n",
        "# construct SGD optimizer and initialize learning rate and momentum\n",
        "optimizer = torch.optim.SGD(model.parameters(), lr = 0.05, momentum=0.9)\n",
        "# object that decreases learning rate by half every 20 epochs\n",
        "scheduler = StepLR(optimizer, step_size=20, gamma=0.5)\n",
        "# create 100 dummy data points and store in data loader class\n",
        "x_train = torch.tensor(train_data_x.transpose().astype('float32'))\n",
        "y_train = torch.tensor(train_data_y.astype('long')).long()\n",
        "x_val= torch.tensor(val_data_x.transpose().astype('float32'))\n",
        "y_val = torch.tensor(val_data_y.astype('long')).long()\n",
        "\n",
        "# load the data into a class that creates the batches\n",
        "data_loader = DataLoader(TensorDataset(x_train,y_train), batch_size=100, shuffle=True, worker_init_fn=np.random.seed(1))\n",
        "\n",
        "# Initialize model weights\n",
        "model.apply(weights_init)\n",
        "\n",
        "# loop over the dataset n_epoch times\n",
        "n_epoch = 100\n",
        "# store the loss and the % correct at each epoch\n",
        "losses_train = np.zeros((n_epoch))\n",
        "errors_train = np.zeros((n_epoch))\n",
        "losses_val = np.zeros((n_epoch))\n",
        "errors_val = np.zeros((n_epoch))\n",
        "\n",
        "for epoch in range(n_epoch):\n",
        "  # loop over batches\n",
        "  for i, data in enumerate(data_loader):\n",
        "    # retrieve inputs and labels for this batch\n",
        "    x_batch, y_batch = data\n",
        "    # zero the parameter gradients\n",
        "    optimizer.zero_grad()\n",
        "    # forward pass -- calculate model output\n",
        "    pred = model(x_batch[:,None,:])\n",
        "    # compute the loss\n",
        "    loss = loss_function(pred, y_batch)\n",
        "    # backward pass\n",
        "    loss.backward()\n",
        "    # SGD update\n",
        "    optimizer.step()\n",
        "\n",
        "  # Run whole dataset to get statistics -- normally wouldn't do this\n",
        "  pred_train = model(x_train[:,None,:])\n",
        "  pred_val = model(x_val[:,None,:])\n",
        "  _, predicted_train_class = torch.max(pred_train.data, 1)\n",
        "  _, predicted_val_class = torch.max(pred_val.data, 1)\n",
        "  errors_train[epoch] = 100 - 100 * (predicted_train_class == y_train).float().sum() / len(y_train)\n",
        "  errors_val[epoch]= 100 - 100 * (predicted_val_class == y_val).float().sum() / len(y_val)\n",
        "  losses_train[epoch] = loss_function(pred_train, y_train).item()\n",
        "  losses_val[epoch]= loss_function(pred_val, y_val).item()\n",
        "  print(f'Epoch {epoch:5d}, train loss {losses_train[epoch]:.6f}, train error {errors_train[epoch]:3.2f},  val loss {losses_val[epoch]:.6f}, percent error {errors_val[epoch]:3.2f}')\n",
        "\n",
        "  # tell scheduler to consider updating learning rate\n",
        "  scheduler.step()\n",
        "\n",
        "# Plot the results\n",
        "fig, ax = plt.subplots()\n",
        "ax.plot(errors_train,'r-',label='train')\n",
        "ax.plot(errors_val,'b-',label='validation')\n",
        "ax.set_ylim(0,100); ax.set_xlim(0,n_epoch)\n",
        "ax.set_xlabel('Epoch'); ax.set_ylabel('Error')\n",
        "ax.set_title('Part I: Validation Result %3.2f'%(errors_val[-1]))\n",
        "ax.legend()\n",
        "plt.show()"
      ],
      "metadata": {
        "id": "NYw8I_3mmX5c",
        "colab": {
          "base_uri": "https://localhost:8080/",
          "height": 1000
        },
        "outputId": "63127cd7-019b-4d5a-f310-069c88f8f4a7"
      },
      "execution_count": null,
      "outputs": [
        {
          "output_type": "stream",
          "name": "stdout",
          "text": [
            "Epoch     0, train loss 2.032824, train error 79.90,  val loss 2.049103, percent error 81.70\n",
            "Epoch     1, train loss 1.662254, train error 67.65,  val loss 1.652977, percent error 68.30\n",
            "Epoch     2, train loss 1.396755, train error 56.83,  val loss 1.424435, percent error 58.60\n",
            "Epoch     3, train loss 1.309692, train error 52.70,  val loss 1.332920, percent error 56.30\n",
            "Epoch     4, train loss 1.238960, train error 51.20,  val loss 1.273935, percent error 54.20\n",
            "Epoch     5, train loss 1.211344, train error 49.30,  val loss 1.240619, percent error 51.70\n",
            "Epoch     6, train loss 1.033311, train error 41.85,  val loss 1.058081, percent error 43.10\n",
            "Epoch     7, train loss 0.915644, train error 36.33,  val loss 0.945170, percent error 38.40\n",
            "Epoch     8, train loss 0.911813, train error 36.70,  val loss 0.947807, percent error 39.20\n",
            "Epoch     9, train loss 0.741555, train error 30.78,  val loss 0.798627, percent error 33.60\n",
            "Epoch    10, train loss 0.678842, train error 26.47,  val loss 0.750650, percent error 30.40\n",
            "Epoch    11, train loss 0.637730, train error 25.03,  val loss 0.710148, percent error 27.00\n",
            "Epoch    12, train loss 0.586975, train error 23.45,  val loss 0.668604, percent error 26.20\n",
            "Epoch    13, train loss 0.484172, train error 17.38,  val loss 0.566729, percent error 21.40\n",
            "Epoch    14, train loss 0.544358, train error 20.90,  val loss 0.638398, percent error 23.00\n",
            "Epoch    15, train loss 0.362745, train error 12.82,  val loss 0.502336, percent error 18.10\n",
            "Epoch    16, train loss 0.344277, train error 11.95,  val loss 0.481431, percent error 16.60\n",
            "Epoch    17, train loss 0.341394, train error 12.82,  val loss 0.469123, percent error 15.80\n",
            "Epoch    18, train loss 0.264847, train error 9.43,  val loss 0.452968, percent error 14.90\n",
            "Epoch    19, train loss 0.264528, train error 9.90,  val loss 0.407316, percent error 13.60\n",
            "Epoch    20, train loss 0.197438, train error 6.55,  val loss 0.379061, percent error 11.50\n",
            "Epoch    21, train loss 0.169048, train error 5.15,  val loss 0.339337, percent error 11.10\n",
            "Epoch    22, train loss 0.174074, train error 5.38,  val loss 0.340478, percent error 11.20\n",
            "Epoch    23, train loss 0.158543, train error 4.90,  val loss 0.346555, percent error 10.80\n",
            "Epoch    24, train loss 0.157296, train error 5.15,  val loss 0.341232, percent error 10.10\n",
            "Epoch    25, train loss 0.147188, train error 4.68,  val loss 0.356180, percent error 10.90\n",
            "Epoch    26, train loss 0.155078, train error 5.28,  val loss 0.342750, percent error 10.10\n",
            "Epoch    27, train loss 0.138410, train error 4.10,  val loss 0.362947, percent error 10.60\n",
            "Epoch    28, train loss 0.123472, train error 3.93,  val loss 0.333659, percent error 9.80\n",
            "Epoch    29, train loss 0.121989, train error 4.15,  val loss 0.321602, percent error 9.00\n",
            "Epoch    30, train loss 0.114965, train error 3.82,  val loss 0.337171, percent error 10.10\n",
            "Epoch    31, train loss 0.118782, train error 4.05,  val loss 0.331174, percent error 9.80\n",
            "Epoch    32, train loss 0.112184, train error 3.62,  val loss 0.335164, percent error 9.70\n",
            "Epoch    33, train loss 0.097692, train error 3.03,  val loss 0.336257, percent error 9.80\n",
            "Epoch    34, train loss 0.098248, train error 3.18,  val loss 0.334737, percent error 10.40\n",
            "Epoch    35, train loss 0.094339, train error 2.65,  val loss 0.346373, percent error 9.70\n",
            "Epoch    36, train loss 0.097267, train error 3.15,  val loss 0.348471, percent error 9.50\n",
            "Epoch    37, train loss 0.087055, train error 2.82,  val loss 0.341061, percent error 9.60\n",
            "Epoch    38, train loss 0.085476, train error 2.62,  val loss 0.345027, percent error 10.50\n",
            "Epoch    39, train loss 0.087176, train error 2.72,  val loss 0.355752, percent error 10.70\n",
            "Epoch    40, train loss 0.068350, train error 1.65,  val loss 0.337877, percent error 9.10\n",
            "Epoch    41, train loss 0.064410, train error 1.60,  val loss 0.337175, percent error 9.50\n",
            "Epoch    42, train loss 0.064830, train error 1.88,  val loss 0.345866, percent error 9.90\n",
            "Epoch    43, train loss 0.059777, train error 1.53,  val loss 0.335967, percent error 9.70\n",
            "Epoch    44, train loss 0.059766, train error 1.60,  val loss 0.346582, percent error 10.00\n",
            "Epoch    45, train loss 0.062351, train error 1.72,  val loss 0.355131, percent error 9.80\n",
            "Epoch    46, train loss 0.057888, train error 1.45,  val loss 0.347704, percent error 9.50\n",
            "Epoch    47, train loss 0.057996, train error 1.43,  val loss 0.355581, percent error 9.70\n",
            "Epoch    48, train loss 0.061480, train error 1.93,  val loss 0.372535, percent error 10.30\n",
            "Epoch    49, train loss 0.059654, train error 1.65,  val loss 0.382140, percent error 10.30\n",
            "Epoch    50, train loss 0.052013, train error 1.22,  val loss 0.361541, percent error 9.90\n",
            "Epoch    51, train loss 0.049435, train error 0.97,  val loss 0.354769, percent error 9.60\n",
            "Epoch    52, train loss 0.050183, train error 1.22,  val loss 0.357368, percent error 9.10\n",
            "Epoch    53, train loss 0.050471, train error 1.10,  val loss 0.361597, percent error 9.40\n",
            "Epoch    54, train loss 0.049182, train error 1.32,  val loss 0.370267, percent error 9.40\n",
            "Epoch    55, train loss 0.046608, train error 1.18,  val loss 0.371099, percent error 9.90\n",
            "Epoch    56, train loss 0.045287, train error 1.03,  val loss 0.373353, percent error 9.60\n",
            "Epoch    57, train loss 0.045989, train error 0.88,  val loss 0.377335, percent error 9.70\n",
            "Epoch    58, train loss 0.043989, train error 0.95,  val loss 0.366573, percent error 9.40\n",
            "Epoch    59, train loss 0.045695, train error 1.15,  val loss 0.375235, percent error 9.30\n",
            "Epoch    60, train loss 0.038990, train error 0.80,  val loss 0.374973, percent error 9.20\n",
            "Epoch    61, train loss 0.039006, train error 0.70,  val loss 0.370017, percent error 8.90\n",
            "Epoch    62, train loss 0.038677, train error 0.75,  val loss 0.373147, percent error 9.20\n",
            "Epoch    63, train loss 0.038540, train error 0.75,  val loss 0.372084, percent error 8.90\n",
            "Epoch    64, train loss 0.038144, train error 0.72,  val loss 0.381637, percent error 9.70\n",
            "Epoch    65, train loss 0.036454, train error 0.68,  val loss 0.376504, percent error 9.20\n",
            "Epoch    66, train loss 0.037166, train error 0.60,  val loss 0.379190, percent error 8.90\n",
            "Epoch    67, train loss 0.035653, train error 0.62,  val loss 0.379737, percent error 9.20\n",
            "Epoch    68, train loss 0.036417, train error 0.57,  val loss 0.382684, percent error 9.00\n",
            "Epoch    69, train loss 0.034969, train error 0.62,  val loss 0.386497, percent error 9.40\n",
            "Epoch    70, train loss 0.034272, train error 0.55,  val loss 0.383474, percent error 9.20\n",
            "Epoch    71, train loss 0.034043, train error 0.55,  val loss 0.385525, percent error 9.40\n",
            "Epoch    72, train loss 0.034412, train error 0.60,  val loss 0.383811, percent error 9.00\n",
            "Epoch    73, train loss 0.033661, train error 0.55,  val loss 0.390458, percent error 9.50\n",
            "Epoch    74, train loss 0.033351, train error 0.55,  val loss 0.392487, percent error 9.40\n",
            "Epoch    75, train loss 0.034763, train error 0.57,  val loss 0.398623, percent error 9.60\n",
            "Epoch    76, train loss 0.033185, train error 0.57,  val loss 0.397726, percent error 9.50\n",
            "Epoch    77, train loss 0.032917, train error 0.60,  val loss 0.402196, percent error 9.80\n",
            "Epoch    78, train loss 0.031515, train error 0.50,  val loss 0.397101, percent error 9.30\n",
            "Epoch    79, train loss 0.031834, train error 0.43,  val loss 0.396819, percent error 9.60\n",
            "Epoch    80, train loss 0.030482, train error 0.47,  val loss 0.398132, percent error 9.50\n",
            "Epoch    81, train loss 0.030556, train error 0.40,  val loss 0.401948, percent error 9.30\n",
            "Epoch    82, train loss 0.029956, train error 0.40,  val loss 0.397567, percent error 9.10\n",
            "Epoch    83, train loss 0.029766, train error 0.40,  val loss 0.400115, percent error 9.20\n",
            "Epoch    84, train loss 0.029771, train error 0.40,  val loss 0.400935, percent error 9.30\n",
            "Epoch    85, train loss 0.029520, train error 0.40,  val loss 0.400805, percent error 9.40\n",
            "Epoch    86, train loss 0.029427, train error 0.40,  val loss 0.401373, percent error 9.50\n",
            "Epoch    87, train loss 0.029348, train error 0.38,  val loss 0.402649, percent error 9.20\n",
            "Epoch    88, train loss 0.028999, train error 0.35,  val loss 0.403126, percent error 9.30\n",
            "Epoch    89, train loss 0.028989, train error 0.40,  val loss 0.405424, percent error 9.60\n",
            "Epoch    90, train loss 0.028897, train error 0.38,  val loss 0.408571, percent error 9.60\n",
            "Epoch    91, train loss 0.028702, train error 0.35,  val loss 0.405043, percent error 9.40\n",
            "Epoch    92, train loss 0.028804, train error 0.40,  val loss 0.407461, percent error 9.50\n",
            "Epoch    93, train loss 0.028067, train error 0.35,  val loss 0.405731, percent error 9.10\n",
            "Epoch    94, train loss 0.028057, train error 0.38,  val loss 0.406063, percent error 9.30\n",
            "Epoch    95, train loss 0.028029, train error 0.35,  val loss 0.412411, percent error 9.80\n",
            "Epoch    96, train loss 0.027783, train error 0.35,  val loss 0.410805, percent error 9.30\n",
            "Epoch    97, train loss 0.027872, train error 0.38,  val loss 0.414824, percent error 9.40\n",
            "Epoch    98, train loss 0.027633, train error 0.32,  val loss 0.405258, percent error 9.40\n",
            "Epoch    99, train loss 0.027734, train error 0.38,  val loss 0.417923, percent error 9.50\n"
          ]
        },
        {
          "output_type": "display_data",
          "data": {
            "text/plain": [
              "<Figure size 640x480 with 1 Axes>"
            ],
            "image/png": "[encoded data removed]"
          },
          "metadata": {}
        }
      ]
    }
  ]
}